{
  "nbformat": 4,
  "nbformat_minor": 0,
  "metadata": {
    "colab": {
      "provenance": [],
      "authorship_tag": "ABX9TyNYeiHNJ5pVJ3Lw+iHbbMpX",
      "include_colab_link": true
    },
    "kernelspec": {
      "name": "python3",
      "display_name": "Python 3"
    },
    "language_info": {
      "name": "python"
    }
  },
  "cells": [
    {
      "cell_type": "markdown",
      "metadata": {
        "id": "view-in-github",
        "colab_type": "text"
      },
      "source": [
        "<a href=\"https://colab.research.google.com/github/annodomini80/rnn-python/blob/master/Untitled2.ipynb\" target=\"_parent\"><img src=\"https://colab.research.google.com/assets/colab-badge.svg\" alt=\"Open In Colab\"/></a>"
      ]
    },
    {
      "cell_type": "code",
      "execution_count": 1,
      "metadata": {
        "id": "BgHHkSVKnKMp"
      },
      "outputs": [],
      "source": [
        "import pandas as pd\n",
        "import numpy as np\n",
        "\n",
        "from keras.optimizers import Adam\n",
        "from keras.callbacks import EarlyStopping\n",
        "from keras.layers import Dense, LSTM, Dropout\n",
        "from keras.models import Sequential\n",
        "\n",
        "import matplotlib.pyplot as plt\n",
        "\n",
        "from sklearn.model_selection import train_test_split\n",
        "from sklearn.preprocessing import MinMaxScaler"
      ]
    },
    {
      "cell_type": "code",
      "source": [
        "solar_data = pd.read_excel('/content/Time_Series_FR_15-19.xlsx')\n",
        "weather_data = pd.read_excel('/content/weather_data_FR_15-19.xlsx')"
      ],
      "metadata": {
        "id": "Oy7onWv3qtVX"
      },
      "execution_count": 6,
      "outputs": []
    },
    {
      "cell_type": "code",
      "source": [
        "solar_data['utc_timestamp'] = pd.to_datetime(solar_data['utc_timestamp'])\n",
        "solar_data.set_index('utc_timestamp', inplace=True)\n",
        "\n",
        "weather_data['utc_timestamp'] = pd.to_datetime(weather_data['utc_timestamp'])\n",
        "weather_data.set_index('utc_timestamp', inplace=True)"
      ],
      "metadata": {
        "id": "P3R_HS-8r9No"
      },
      "execution_count": 7,
      "outputs": []
    },
    {
      "cell_type": "code",
      "source": [
        "merged_data = pd.merge(solar_data, weather_data, on='utc_timestamp')\n",
        "merged_data.dropna(inplace=True)\n",
        "merged_data.sort_index(inplace=True)"
      ],
      "metadata": {
        "id": "XSDN8jvasqMx"
      },
      "execution_count": 10,
      "outputs": []
    },
    {
      "cell_type": "code",
      "source": [
        "features = merged_data[['temperature',\n",
        "                        'radiation_direct_horizontal',\n",
        "                        'radiation_diffuse_horizontal']]\n",
        "target = merged_data['solar_generation_actual']"
      ],
      "metadata": {
        "id": "DYx0aHEmtJKz"
      },
      "execution_count": 17,
      "outputs": []
    },
    {
      "cell_type": "code",
      "source": [
        "scaler_features = MinMaxScaler()\n",
        "scaler_target = MinMaxScaler()\n",
        "\n",
        "scaled_features = scaler_features.fit_transform(features)\n",
        "\n",
        "# Reshape the target variable to a 2D array with a single column\n",
        "scaled_target = scaler_target.fit_transform(target.values.reshape(-1, 1))"
      ],
      "metadata": {
        "id": "tHgzHDiuuvy8"
      },
      "execution_count": 20,
      "outputs": []
    },
    {
      "cell_type": "code",
      "source": [
        "train_size = 0.8\n",
        "train_features, test_features, train_target, test_target = train_test_split(scaled_features, scaled_target, train_size=train_size, shuffle=False)\n",
        "\n"
      ],
      "metadata": {
        "id": "ktOZd4PiwZdY"
      },
      "execution_count": 23,
      "outputs": []
    },
    {
      "cell_type": "code",
      "source": [
        "print(train_features.shape)\n",
        "print(test_features.shape)\n",
        "print(train_target.shape)\n",
        "print(test_target.shape)\n"
      ],
      "metadata": {
        "colab": {
          "base_uri": "https://localhost:8080/"
        },
        "id": "BJeUQXozyKVS",
        "outputId": "a2a34dfb-e3c2-404d-ace9-cc2bc9c73354"
      },
      "execution_count": 31,
      "outputs": [
        {
          "output_type": "stream",
          "name": "stdout",
          "text": [
            "(35048, 3)\n",
            "(8762, 3)\n",
            "(35048, 1)\n",
            "(8762, 1)\n"
          ]
        },
        {
          "output_type": "execute_result",
          "data": {
            "text/plain": [
              "array([0.20118463, 0.13234392, 0.18444098])"
            ]
          },
          "metadata": {},
          "execution_count": 31
        }
      ]
    },
    {
      "cell_type": "code",
      "source": [
        "train_data = scaled_features[:int(train_size * len(scaled_features))]\n",
        "test_data = scaled_features[int(train_size * len(scaled_features)):]\n",
        "train_target = scaled_target[:int(train_size * len(scaled_target))]\n",
        "test_target = scaled_target[int(train_size * len(scaled_target)):]"
      ],
      "metadata": {
        "id": "wmUw3Ngr1APl"
      },
      "execution_count": 32,
      "outputs": []
    },
    {
      "cell_type": "code",
      "source": [
        "print(train_data.shape)\n",
        "print(test_data.shape)\n",
        "print(train_target.shape)\n",
        "print(test_target.shape)"
      ],
      "metadata": {
        "colab": {
          "base_uri": "https://localhost:8080/"
        },
        "id": "8yqiWDy71MDz",
        "outputId": "3a2163b5-9096-4492-f8f8-a9a245e85e12"
      },
      "execution_count": 34,
      "outputs": [
        {
          "output_type": "stream",
          "name": "stdout",
          "text": [
            "(35048, 3)\n",
            "(8762, 3)\n",
            "(35048, 1)\n",
            "(8762, 1)\n"
          ]
        }
      ]
    },
    {
      "cell_type": "code",
      "source": [
        "def get_batch(data_x, data_y, seq_len):\n",
        "    x = []\n",
        "    y = []\n",
        "    for i in range(len(data_x) - seq_len):\n",
        "        x.append(data_x[i:i+seq_len])\n",
        "        y.append(data_y[i+seq_len])\n",
        "    return np.array(x), np.array(y)"
      ],
      "metadata": {
        "id": "lvCpZjqC1Txj"
      },
      "execution_count": 36,
      "outputs": []
    },
    {
      "cell_type": "code",
      "source": [
        "x_train, y_train = get_batch(train_data, train_target, seq_len=24)\n",
        "x_test, y_test = get_batch(test_data, test_target, seq_len=24)"
      ],
      "metadata": {
        "id": "4JqnImA31zxs"
      },
      "execution_count": 40,
      "outputs": []
    },
    {
      "cell_type": "code",
      "source": [
        "model = Sequential()\n",
        "model.add(LSTM(units=50, return_sequences=True, input_shape=(x_train.shape[1], x_train.shape[2])))\n",
        "model.add(Dropout(0.2))\n",
        "model.add(LSTM(units=50, return_sequences=True))\n",
        "model.add(Dropout(0.2))\n",
        "model.add(Dense(units=25))\n",
        "model.add(Dense(units=1))"
      ],
      "metadata": {
        "colab": {
          "base_uri": "https://localhost:8080/"
        },
        "id": "3Ei_JfuZ3N4B",
        "outputId": "761d5bf8-4cfc-4739-d316-8220522fac9c"
      },
      "execution_count": 42,
      "outputs": [
        {
          "output_type": "stream",
          "name": "stderr",
          "text": [
            "/usr/local/lib/python3.10/dist-packages/keras/src/layers/rnn/rnn.py:204: UserWarning: Do not pass an `input_shape`/`input_dim` argument to a layer. When using Sequential models, prefer using an `Input(shape)` object as the first layer in the model instead.\n",
            "  super().__init__(**kwargs)\n"
          ]
        }
      ]
    },
    {
      "cell_type": "code",
      "source": [
        "model.compile(optimizer=Adam(learning_rate=0.001), loss='mean_squared_error')\n",
        "early_stop = EarlyStopping(monitor='val_loss', patience=10, verbose=1)\n",
        "history = model.fit(x_train, y_train, epochs=100, validation_data=(x_test, y_test), callbacks=[early_stop])\n"
      ],
      "metadata": {
        "colab": {
          "base_uri": "https://localhost:8080/"
        },
        "id": "FVLbLTEJ4G_d",
        "outputId": "312e9c80-f4ae-44eb-d5b4-e44248838b8b"
      },
      "execution_count": null,
      "outputs": [
        {
          "output_type": "stream",
          "name": "stdout",
          "text": [
            "Epoch 1/100\n",
            "\u001b[1m1095/1095\u001b[0m \u001b[32m━━━━━━━━━━━━━━━━━━━━\u001b[0m\u001b[37m\u001b[0m \u001b[1m35s\u001b[0m 28ms/step - loss: 0.0224 - val_loss: 0.0157\n",
            "Epoch 2/100\n",
            "\u001b[1m1095/1095\u001b[0m \u001b[32m━━━━━━━━━━━━━━━━━━━━\u001b[0m\u001b[37m\u001b[0m \u001b[1m42s\u001b[0m 29ms/step - loss: 0.0061 - val_loss: 0.0175\n",
            "Epoch 3/100\n",
            "\u001b[1m1095/1095\u001b[0m \u001b[32m━━━━━━━━━━━━━━━━━━━━\u001b[0m\u001b[37m\u001b[0m \u001b[1m32s\u001b[0m 29ms/step - loss: 0.0050 - val_loss: 0.0147\n",
            "Epoch 4/100\n",
            "\u001b[1m1095/1095\u001b[0m \u001b[32m━━━━━━━━━━━━━━━━━━━━\u001b[0m\u001b[37m\u001b[0m \u001b[1m40s\u001b[0m 28ms/step - loss: 0.0046 - val_loss: 0.0173\n",
            "Epoch 5/100\n",
            "\u001b[1m1095/1095\u001b[0m \u001b[32m━━━━━━━━━━━━━━━━━━━━\u001b[0m\u001b[37m\u001b[0m \u001b[1m43s\u001b[0m 29ms/step - loss: 0.0044 - val_loss: 0.0115\n",
            "Epoch 6/100\n",
            "\u001b[1m1093/1095\u001b[0m \u001b[32m━━━━━━━━━━━━━━━━━━━\u001b[0m\u001b[37m━\u001b[0m \u001b[1m0s\u001b[0m 26ms/step - loss: 0.0042"
          ]
        }
      ]
    }
  ]
}