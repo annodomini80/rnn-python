{
  "nbformat": 4,
  "nbformat_minor": 0,
  "metadata": {
    "colab": {
      "provenance": [],
      "authorship_tag": "ABX9TyPXCeKVuTm7taZPLejh6xfQ",
      "include_colab_link": true
    },
    "kernelspec": {
      "name": "python3",
      "display_name": "Python 3"
    },
    "language_info": {
      "name": "python"
    }
  },
  "cells": [
    {
      "cell_type": "markdown",
      "metadata": {
        "id": "view-in-github",
        "colab_type": "text"
      },
      "source": [
        "<a href=\"https://colab.research.google.com/github/annodomini80/rnn-python/blob/master/Untitled2.ipynb\" target=\"_parent\"><img src=\"https://colab.research.google.com/assets/colab-badge.svg\" alt=\"Open In Colab\"/></a>"
      ]
    },
    {
      "cell_type": "code",
      "execution_count": 1,
      "metadata": {
        "id": "BgHHkSVKnKMp"
      },
      "outputs": [],
      "source": [
        "import pandas as pd\n",
        "import numpy as np\n",
        "\n",
        "from keras.optimizers import Adam\n",
        "from keras.callbacks import EarlyStopping\n",
        "from keras.layers import Dense, LSTM, Dropout\n",
        "from keras.models import Sequential\n",
        "\n",
        "import matplotlib.pyplot as plt\n",
        "\n",
        "from sklearn.model_selection import train_test_split\n",
        "from sklearn.preprocessing import MinMaxScaler"
      ]
    },
    {
      "cell_type": "code",
      "source": [
        "solar_data = pd.read_excel('/content/Time_Series_FR_15-19.xlsx')\n",
        "weather_data = pd.read_excel('/content/weather_data_FR_15-19.xlsx')"
      ],
      "metadata": {
        "id": "Oy7onWv3qtVX"
      },
      "execution_count": 6,
      "outputs": []
    },
    {
      "cell_type": "code",
      "source": [
        "solar_data['utc_timestamp'] = pd.to_datetime(solar_data['utc_timestamp'])\n",
        "solar_data.set_index('utc_timestamp', inplace=True)\n",
        "\n",
        "weather_data['utc_timestamp'] = pd.to_datetime(weather_data['utc_timestamp'])\n",
        "weather_data.set_index('utc_timestamp', inplace=True)"
      ],
      "metadata": {
        "id": "P3R_HS-8r9No"
      },
      "execution_count": 7,
      "outputs": []
    },
    {
      "cell_type": "code",
      "source": [
        "merged_data = pd.merge(solar_data, weather_data, on='utc_timestamp')\n",
        "merged_data.dropna(inplace=True)\n",
        "merged_data.sort_index(inplace=True)"
      ],
      "metadata": {
        "id": "XSDN8jvasqMx"
      },
      "execution_count": 10,
      "outputs": []
    },
    {
      "cell_type": "code",
      "source": [
        "features = merged_data[['temperature',\n",
        "                        'radiation_direct_horizontal',\n",
        "                        'radiation_diffuse_horizontal']]\n",
        "target = merged_data['solar_generation_actual']"
      ],
      "metadata": {
        "id": "DYx0aHEmtJKz"
      },
      "execution_count": 17,
      "outputs": []
    },
    {
      "cell_type": "code",
      "source": [
        "scaler_features = MinMaxScaler()\n",
        "scaler_target = MinMaxScaler()\n",
        "\n",
        "scaled_features = scaler_features.fit_transform(features)\n",
        "\n",
        "# Reshape the target variable to a 2D array with a single column\n",
        "scaled_target = scaler_target.fit_transform(target.values.reshape(-1, 1))"
      ],
      "metadata": {
        "id": "tHgzHDiuuvy8"
      },
      "execution_count": 20,
      "outputs": []
    },
    {
      "cell_type": "code",
      "source": [],
      "metadata": {
        "id": "ktOZd4PiwZdY"
      },
      "execution_count": null,
      "outputs": []
    }
  ]
}